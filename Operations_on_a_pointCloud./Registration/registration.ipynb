{
 "cells": [
  {
   "cell_type": "markdown",
   "metadata": {},
   "source": [
    "# Point Cloud Registration\n"
   ]
  },
  {
   "cell_type": "code",
   "execution_count": 1,
   "metadata": {},
   "outputs": [],
   "source": [
    "import utils\n",
    "import open3d as o3d\n",
    "import numpy as np"
   ]
  },
  {
   "cell_type": "code",
   "execution_count": 2,
   "metadata": {},
   "outputs": [],
   "source": [
    "def pcr():\n",
    "    transform = utils.readData(\"01.txt\")\n",
    "    lidar_to_cam = np.array([[0, 0, 1], [-1, 0, 0], [0, -1, 0]]).T\n",
    "    pcdf = o3d.geometry.PointCloud()\n",
    "    for i in range(10,87):\n",
    "        tr = transform[i, :].reshape((3, 4))\n",
    "        pc = np.matmul(lidar_to_cam,utils.readPointCloud(\"01/%06d.bin\" % i)[:, :3].T).T\n",
    "        pad = np.array([[0, 0, 0, 1.0]])\n",
    "        tf = np.append(tr,pad, axis = 0) \n",
    "        ones = np.ones((pc.shape[0], 1))\n",
    "        pc = np.matmul(tf, np.append(pc, ones, axis = 1).T).T\n",
    "        pcreshape = pc[:, 3].reshape(-1, 1) \n",
    "        pc = pc[:, :3] / pcreshape\n",
    "        pcd = o3d.geometry.PointCloud() \n",
    "        pcd.points = o3d.utility.Vector3dVector(pc)\n",
    "    #     pcd_down = pcd.voxel_down_sample(voxel_size = 5) \n",
    "        pcdf += pcd\n",
    "    return pcdf\n",
    "pcdf = pcr()\n",
    "#Registering the point clouds from the LiDAR bins to a single coordinate frame according to odometry data."
   ]
  },
  {
   "cell_type": "code",
   "execution_count": 3,
   "metadata": {},
   "outputs": [
    {
     "data": {
      "text/plain": [
       "True"
      ]
     },
     "execution_count": 3,
     "metadata": {},
     "output_type": "execute_result"
    }
   ],
   "source": [
    "o3d.visualization.draw_geometries([pcdf])\n",
    "o3d.io.write_point_cloud(\"./pcd.ply\",pcdf)"
   ]
  }
 ],
 "metadata": {
  "kernelspec": {
   "display_name": "Python 3",
   "language": "python",
   "name": "python3"
  },
  "language_info": {
   "codemirror_mode": {
    "name": "ipython",
    "version": 3
   },
   "file_extension": ".py",
   "mimetype": "text/x-python",
   "name": "python",
   "nbconvert_exporter": "python",
   "pygments_lexer": "ipython3",
   "version": "3.7.6"
  }
 },
 "nbformat": 4,
 "nbformat_minor": 4
}
